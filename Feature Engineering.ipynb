{
 "cells": [
  {
   "cell_type": "markdown",
   "id": "3bb5bac6",
   "metadata": {},
   "source": [
    "### Feature Engineering  : whatever we do with feature is called feature engineering\n",
    "\n",
    "1. Feature Elimination - Dropping the features\n",
    "2.  Feature Addition - Adding some features.\n",
    "3.  Feature Transformation - Transforming given features values into another scale - Log Transformation , Sqrt Transformation\n",
    "4.  Feature Selection - Deciding whether features are importance out of many features and choosing that features for model building.\n",
    " \n",
    "\n",
    "### Feature Selection Technique - It used ML models to select no of features \n",
    "\n",
    "1. Sklearn - Select From Model \n",
    "2. Sklearn - RFE - Recursive Feature Elimination\n",
    "\n"
   ]
  },
  {
   "cell_type": "code",
   "execution_count": 7,
   "id": "59c4c122",
   "metadata": {},
   "outputs": [],
   "source": [
    "import pandas as pd \n",
    "import numpy as np \n",
    "import matplotlib.pyplot as plt \n",
    "import seaborn as sns \n",
    "from sklearn.datasets import load_breast_cancer\n",
    "from sklearn.model_selection import train_test_split \n",
    "from sklearn.ensemble import GradientBoostingClassifier,RandomForestClassifier\n",
    "from sklearn.metrics import accuracy_score,precision_score,recall_score,confusion_matrix\n",
    "from sklearn.feature_selection import RFE,SelectFromModel\n",
    "\n",
    "\n",
    "import warnings\n",
    "warnings.filterwarnings('ignore')"
   ]
  },
  {
   "cell_type": "code",
   "execution_count": 4,
   "id": "f3789586",
   "metadata": {},
   "outputs": [],
   "source": [
    "data = load_breast_cancer()"
   ]
  },
  {
   "cell_type": "code",
   "execution_count": 6,
   "id": "519a8ba2",
   "metadata": {},
   "outputs": [
    {
     "data": {
      "text/html": [
       "<div>\n",
       "<style scoped>\n",
       "    .dataframe tbody tr th:only-of-type {\n",
       "        vertical-align: middle;\n",
       "    }\n",
       "\n",
       "    .dataframe tbody tr th {\n",
       "        vertical-align: top;\n",
       "    }\n",
       "\n",
       "    .dataframe thead th {\n",
       "        text-align: right;\n",
       "    }\n",
       "</style>\n",
       "<table border=\"1\" class=\"dataframe\">\n",
       "  <thead>\n",
       "    <tr style=\"text-align: right;\">\n",
       "      <th></th>\n",
       "      <th>mean radius</th>\n",
       "      <th>mean texture</th>\n",
       "      <th>mean perimeter</th>\n",
       "      <th>mean area</th>\n",
       "      <th>mean smoothness</th>\n",
       "      <th>mean compactness</th>\n",
       "      <th>mean concavity</th>\n",
       "      <th>mean concave points</th>\n",
       "      <th>mean symmetry</th>\n",
       "      <th>mean fractal dimension</th>\n",
       "      <th>...</th>\n",
       "      <th>worst texture</th>\n",
       "      <th>worst perimeter</th>\n",
       "      <th>worst area</th>\n",
       "      <th>worst smoothness</th>\n",
       "      <th>worst compactness</th>\n",
       "      <th>worst concavity</th>\n",
       "      <th>worst concave points</th>\n",
       "      <th>worst symmetry</th>\n",
       "      <th>worst fractal dimension</th>\n",
       "      <th>target</th>\n",
       "    </tr>\n",
       "  </thead>\n",
       "  <tbody>\n",
       "    <tr>\n",
       "      <th>0</th>\n",
       "      <td>17.99</td>\n",
       "      <td>10.38</td>\n",
       "      <td>122.80</td>\n",
       "      <td>1001.0</td>\n",
       "      <td>0.11840</td>\n",
       "      <td>0.27760</td>\n",
       "      <td>0.3001</td>\n",
       "      <td>0.14710</td>\n",
       "      <td>0.2419</td>\n",
       "      <td>0.07871</td>\n",
       "      <td>...</td>\n",
       "      <td>17.33</td>\n",
       "      <td>184.60</td>\n",
       "      <td>2019.0</td>\n",
       "      <td>0.1622</td>\n",
       "      <td>0.6656</td>\n",
       "      <td>0.7119</td>\n",
       "      <td>0.2654</td>\n",
       "      <td>0.4601</td>\n",
       "      <td>0.11890</td>\n",
       "      <td>0</td>\n",
       "    </tr>\n",
       "    <tr>\n",
       "      <th>1</th>\n",
       "      <td>20.57</td>\n",
       "      <td>17.77</td>\n",
       "      <td>132.90</td>\n",
       "      <td>1326.0</td>\n",
       "      <td>0.08474</td>\n",
       "      <td>0.07864</td>\n",
       "      <td>0.0869</td>\n",
       "      <td>0.07017</td>\n",
       "      <td>0.1812</td>\n",
       "      <td>0.05667</td>\n",
       "      <td>...</td>\n",
       "      <td>23.41</td>\n",
       "      <td>158.80</td>\n",
       "      <td>1956.0</td>\n",
       "      <td>0.1238</td>\n",
       "      <td>0.1866</td>\n",
       "      <td>0.2416</td>\n",
       "      <td>0.1860</td>\n",
       "      <td>0.2750</td>\n",
       "      <td>0.08902</td>\n",
       "      <td>0</td>\n",
       "    </tr>\n",
       "    <tr>\n",
       "      <th>2</th>\n",
       "      <td>19.69</td>\n",
       "      <td>21.25</td>\n",
       "      <td>130.00</td>\n",
       "      <td>1203.0</td>\n",
       "      <td>0.10960</td>\n",
       "      <td>0.15990</td>\n",
       "      <td>0.1974</td>\n",
       "      <td>0.12790</td>\n",
       "      <td>0.2069</td>\n",
       "      <td>0.05999</td>\n",
       "      <td>...</td>\n",
       "      <td>25.53</td>\n",
       "      <td>152.50</td>\n",
       "      <td>1709.0</td>\n",
       "      <td>0.1444</td>\n",
       "      <td>0.4245</td>\n",
       "      <td>0.4504</td>\n",
       "      <td>0.2430</td>\n",
       "      <td>0.3613</td>\n",
       "      <td>0.08758</td>\n",
       "      <td>0</td>\n",
       "    </tr>\n",
       "    <tr>\n",
       "      <th>3</th>\n",
       "      <td>11.42</td>\n",
       "      <td>20.38</td>\n",
       "      <td>77.58</td>\n",
       "      <td>386.1</td>\n",
       "      <td>0.14250</td>\n",
       "      <td>0.28390</td>\n",
       "      <td>0.2414</td>\n",
       "      <td>0.10520</td>\n",
       "      <td>0.2597</td>\n",
       "      <td>0.09744</td>\n",
       "      <td>...</td>\n",
       "      <td>26.50</td>\n",
       "      <td>98.87</td>\n",
       "      <td>567.7</td>\n",
       "      <td>0.2098</td>\n",
       "      <td>0.8663</td>\n",
       "      <td>0.6869</td>\n",
       "      <td>0.2575</td>\n",
       "      <td>0.6638</td>\n",
       "      <td>0.17300</td>\n",
       "      <td>0</td>\n",
       "    </tr>\n",
       "    <tr>\n",
       "      <th>4</th>\n",
       "      <td>20.29</td>\n",
       "      <td>14.34</td>\n",
       "      <td>135.10</td>\n",
       "      <td>1297.0</td>\n",
       "      <td>0.10030</td>\n",
       "      <td>0.13280</td>\n",
       "      <td>0.1980</td>\n",
       "      <td>0.10430</td>\n",
       "      <td>0.1809</td>\n",
       "      <td>0.05883</td>\n",
       "      <td>...</td>\n",
       "      <td>16.67</td>\n",
       "      <td>152.20</td>\n",
       "      <td>1575.0</td>\n",
       "      <td>0.1374</td>\n",
       "      <td>0.2050</td>\n",
       "      <td>0.4000</td>\n",
       "      <td>0.1625</td>\n",
       "      <td>0.2364</td>\n",
       "      <td>0.07678</td>\n",
       "      <td>0</td>\n",
       "    </tr>\n",
       "  </tbody>\n",
       "</table>\n",
       "<p>5 rows × 31 columns</p>\n",
       "</div>"
      ],
      "text/plain": [
       "   mean radius  mean texture  mean perimeter  mean area  mean smoothness  \\\n",
       "0        17.99         10.38          122.80     1001.0          0.11840   \n",
       "1        20.57         17.77          132.90     1326.0          0.08474   \n",
       "2        19.69         21.25          130.00     1203.0          0.10960   \n",
       "3        11.42         20.38           77.58      386.1          0.14250   \n",
       "4        20.29         14.34          135.10     1297.0          0.10030   \n",
       "\n",
       "   mean compactness  mean concavity  mean concave points  mean symmetry  \\\n",
       "0           0.27760          0.3001              0.14710         0.2419   \n",
       "1           0.07864          0.0869              0.07017         0.1812   \n",
       "2           0.15990          0.1974              0.12790         0.2069   \n",
       "3           0.28390          0.2414              0.10520         0.2597   \n",
       "4           0.13280          0.1980              0.10430         0.1809   \n",
       "\n",
       "   mean fractal dimension  ...  worst texture  worst perimeter  worst area  \\\n",
       "0                 0.07871  ...          17.33           184.60      2019.0   \n",
       "1                 0.05667  ...          23.41           158.80      1956.0   \n",
       "2                 0.05999  ...          25.53           152.50      1709.0   \n",
       "3                 0.09744  ...          26.50            98.87       567.7   \n",
       "4                 0.05883  ...          16.67           152.20      1575.0   \n",
       "\n",
       "   worst smoothness  worst compactness  worst concavity  worst concave points  \\\n",
       "0            0.1622             0.6656           0.7119                0.2654   \n",
       "1            0.1238             0.1866           0.2416                0.1860   \n",
       "2            0.1444             0.4245           0.4504                0.2430   \n",
       "3            0.2098             0.8663           0.6869                0.2575   \n",
       "4            0.1374             0.2050           0.4000                0.1625   \n",
       "\n",
       "   worst symmetry  worst fractal dimension  target  \n",
       "0          0.4601                  0.11890       0  \n",
       "1          0.2750                  0.08902       0  \n",
       "2          0.3613                  0.08758       0  \n",
       "3          0.6638                  0.17300       0  \n",
       "4          0.2364                  0.07678       0  \n",
       "\n",
       "[5 rows x 31 columns]"
      ]
     },
     "execution_count": 6,
     "metadata": {},
     "output_type": "execute_result"
    }
   ],
   "source": [
    "df=pd.DataFrame(columns=data.feature_names,data=data.data)\n",
    "df['target']=data['target']\n",
    "df.head()"
   ]
  },
  {
   "cell_type": "code",
   "execution_count": 20,
   "id": "258e89f8",
   "metadata": {},
   "outputs": [
    {
     "data": {
      "text/plain": [
       "(569, 31)"
      ]
     },
     "execution_count": 20,
     "metadata": {},
     "output_type": "execute_result"
    }
   ],
   "source": [
    "df.shape"
   ]
  },
  {
   "cell_type": "markdown",
   "id": "adf9b520",
   "metadata": {},
   "source": [
    "### 1.  Model Building "
   ]
  },
  {
   "cell_type": "code",
   "execution_count": 26,
   "id": "d2998032",
   "metadata": {},
   "outputs": [],
   "source": [
    "X=df.drop(columns=['target'],axis=1)\n",
    "y=df['target']\n",
    "X_train,X_test,y_train,y_test=train_test_split(X,y,\n",
    "                                              test_size=0.20,\n",
    "                                              random_state=42,\n",
    "                                              shuffle=True)"
   ]
  },
  {
   "cell_type": "code",
   "execution_count": 27,
   "id": "0f2d316d",
   "metadata": {},
   "outputs": [
    {
     "data": {
      "text/plain": [
       "0.9649122807017544"
      ]
     },
     "execution_count": 27,
     "metadata": {},
     "output_type": "execute_result"
    }
   ],
   "source": [
    "\n",
    "# Training the model with Random Forest\n",
    "\n",
    "from sklearn.metrics import accuracy_score,precision_score,recall_score\n",
    "rf_classifier=RandomForestClassifier()\n",
    "rf_classifier.fit(X_train,y_train)\n",
    "y_predict= rf_classifier.predict(X_test)\n",
    "accuracy_score(y_test,y_predict)"
   ]
  },
  {
   "cell_type": "code",
   "execution_count": 28,
   "id": "886c5768",
   "metadata": {},
   "outputs": [
    {
     "data": {
      "text/plain": [
       "0.958904109589041"
      ]
     },
     "execution_count": 28,
     "metadata": {},
     "output_type": "execute_result"
    }
   ],
   "source": [
    "precision_score(y_test,y_predict)"
   ]
  },
  {
   "cell_type": "code",
   "execution_count": 29,
   "id": "f7ca8063",
   "metadata": {},
   "outputs": [
    {
     "data": {
      "text/plain": [
       "0.9859154929577465"
      ]
     },
     "execution_count": 29,
     "metadata": {},
     "output_type": "execute_result"
    }
   ],
   "source": [
    "recall_score(y_test,y_predict)"
   ]
  },
  {
   "cell_type": "code",
   "execution_count": 30,
   "id": "dfe3b1a4",
   "metadata": {},
   "outputs": [
    {
     "data": {
      "text/plain": [
       "array([[40,  3],\n",
       "       [ 1, 70]], dtype=int64)"
      ]
     },
     "execution_count": 30,
     "metadata": {},
     "output_type": "execute_result"
    }
   ],
   "source": [
    "from sklearn.metrics import confusion_matrix\n",
    "confusion_matrix(y_test,y_predict)"
   ]
  },
  {
   "cell_type": "markdown",
   "id": "9810d655",
   "metadata": {},
   "source": [
    "## 2 .Feature Selection Techniques "
   ]
  },
  {
   "cell_type": "markdown",
   "id": "60b2f4c8",
   "metadata": {},
   "source": [
    "### 1.  SelectFromModel - based on weights we can select the features"
   ]
  },
  {
   "cell_type": "code",
   "execution_count": 31,
   "id": "2180e7e2",
   "metadata": {},
   "outputs": [
    {
     "data": {
      "text/plain": [
       "SelectFromModel(estimator=RandomForestClassifier())"
      ]
     },
     "execution_count": 31,
     "metadata": {},
     "output_type": "execute_result"
    }
   ],
   "source": [
    "select_from_model=SelectFromModel(estimator=RandomForestClassifier(),\n",
    "                                 max_features=None)\n",
    "\n",
    "select_from_model.fit(X_train,y_train)\n",
    "                     "
   ]
  },
  {
   "cell_type": "code",
   "execution_count": 32,
   "id": "0a023648",
   "metadata": {},
   "outputs": [
    {
     "data": {
      "text/plain": [
       "array([ True, False,  True,  True, False, False,  True,  True, False,\n",
       "       False, False, False, False, False, False, False, False, False,\n",
       "       False, False,  True, False,  True,  True, False, False,  True,\n",
       "        True, False, False])"
      ]
     },
     "execution_count": 32,
     "metadata": {},
     "output_type": "execute_result"
    }
   ],
   "source": [
    "select_from_model.get_support()"
   ]
  },
  {
   "cell_type": "code",
   "execution_count": 33,
   "id": "d10edffa",
   "metadata": {},
   "outputs": [
    {
     "data": {
      "text/plain": [
       "10"
      ]
     },
     "execution_count": 33,
     "metadata": {},
     "output_type": "execute_result"
    }
   ],
   "source": [
    "X_train.columns[select_from_model.get_support()].nunique()"
   ]
  },
  {
   "cell_type": "code",
   "execution_count": 34,
   "id": "f12988bc",
   "metadata": {},
   "outputs": [
    {
     "data": {
      "text/plain": [
       "Index(['mean radius', 'mean perimeter', 'mean area', 'mean concavity',\n",
       "       'mean concave points', 'worst radius', 'worst perimeter', 'worst area',\n",
       "       'worst concavity', 'worst concave points'],\n",
       "      dtype='object')"
      ]
     },
     "execution_count": 34,
     "metadata": {},
     "output_type": "execute_result"
    }
   ],
   "source": [
    "X_train.columns[select_from_model.get_support()]"
   ]
  },
  {
   "cell_type": "code",
   "execution_count": 35,
   "id": "f6f53be8",
   "metadata": {},
   "outputs": [
    {
     "data": {
      "text/plain": [
       "(455, 10)"
      ]
     },
     "execution_count": 35,
     "metadata": {},
     "output_type": "execute_result"
    }
   ],
   "source": [
    "\n",
    "# Train the model from the above features and check the accuracy\n",
    "# Select Only 10 Features \n",
    "# Below will directly transform the required features , eliminating the \n",
    "# unnecessary features.\n",
    "\n",
    "X_train_transform = select_from_model.transform(X_train)\n",
    "X_test_transform = select_from_model.transform(X_test)\n",
    "\n",
    "X_train_transform.shape"
   ]
  },
  {
   "cell_type": "code",
   "execution_count": 36,
   "id": "bb06cdb1",
   "metadata": {},
   "outputs": [
    {
     "data": {
      "text/plain": [
       "(114, 10)"
      ]
     },
     "execution_count": 36,
     "metadata": {},
     "output_type": "execute_result"
    }
   ],
   "source": [
    "X_test_transform.shape"
   ]
  },
  {
   "cell_type": "code",
   "execution_count": 37,
   "id": "b4a9204f",
   "metadata": {},
   "outputs": [
    {
     "data": {
      "text/plain": [
       "0.9649122807017544"
      ]
     },
     "execution_count": 37,
     "metadata": {},
     "output_type": "execute_result"
    }
   ],
   "source": [
    "rf_classifier=RandomForestClassifier()\n",
    "rf_classifier.fit(X_train_transform,y_train)\n",
    "y_predict= rf_classifier.predict(X_test_transform)\n",
    "accuracy_score(y_test,y_predict)"
   ]
  },
  {
   "cell_type": "code",
   "execution_count": 55,
   "id": "ea80fdb8",
   "metadata": {},
   "outputs": [],
   "source": [
    "def Check_accuracy(X_train,X_test):\n",
    "    rf_classifier=RandomForestClassifier(random_state=42)\n",
    "    rf_classifier.fit(X_train,y_train)\n",
    "    y_predict= rf_classifier.predict(X_test)\n",
    "    print(accuracy_score(y_test,y_predict))"
   ]
  },
  {
   "cell_type": "markdown",
   "id": "50561f39",
   "metadata": {},
   "source": [
    "### 2.  RFE - Recursive Feature Elimination"
   ]
  },
  {
   "cell_type": "code",
   "execution_count": 42,
   "id": "c92bf4a2",
   "metadata": {},
   "outputs": [
    {
     "data": {
      "text/plain": [
       "array([ True,  True,  True,  True, False, False,  True,  True, False,\n",
       "       False, False, False, False,  True, False, False, False, False,\n",
       "       False, False,  True,  True,  True,  True,  True,  True,  True,\n",
       "        True, False, False])"
      ]
     },
     "execution_count": 42,
     "metadata": {},
     "output_type": "execute_result"
    }
   ],
   "source": [
    "\n",
    "# n_features_to_select = By default it will select half of the features.\n",
    "\n",
    "rfe_model = RFE(estimator=RandomForestClassifier(),\n",
    "   n_features_to_select=None)\n",
    "   \n",
    "rfe_model.fit(X_train,y_train)    \n",
    "rfe_model.get_support()"
   ]
  },
  {
   "cell_type": "code",
   "execution_count": 43,
   "id": "3d694b2d",
   "metadata": {},
   "outputs": [
    {
     "data": {
      "text/plain": [
       "Index(['mean radius', 'mean texture', 'mean perimeter', 'mean area',\n",
       "       'mean concavity', 'mean concave points', 'area error', 'worst radius',\n",
       "       'worst texture', 'worst perimeter', 'worst area', 'worst smoothness',\n",
       "       'worst compactness', 'worst concavity', 'worst concave points'],\n",
       "      dtype='object')"
      ]
     },
     "execution_count": 43,
     "metadata": {},
     "output_type": "execute_result"
    }
   ],
   "source": [
    "X_train.columns[rfe_model.get_support()]"
   ]
  },
  {
   "cell_type": "code",
   "execution_count": 44,
   "id": "4140bb78",
   "metadata": {},
   "outputs": [
    {
     "data": {
      "text/plain": [
       "15"
      ]
     },
     "execution_count": 44,
     "metadata": {},
     "output_type": "execute_result"
    }
   ],
   "source": [
    "X_train.columns[rfe_model.get_support()].nunique()"
   ]
  },
  {
   "cell_type": "code",
   "execution_count": 45,
   "id": "bbe6cc3b",
   "metadata": {},
   "outputs": [],
   "source": [
    "# Select those features from the X_train given by RFE model .\n",
    "\n",
    "X_train_rfe_transform=rfe_model.transform(X_train)\n",
    "X_test_rfe_transform=rfe_model.transform(X_test)"
   ]
  },
  {
   "cell_type": "code",
   "execution_count": 59,
   "id": "07631682",
   "metadata": {},
   "outputs": [
    {
     "name": "stdout",
     "output_type": "stream",
     "text": [
      "0.9649122807017544\n",
      "Wall time: 127 ms\n"
     ]
    }
   ],
   "source": [
    "%%time\n",
    "Check_accuracy(X_train_rfe_transform,X_test_rfe_transform)"
   ]
  },
  {
   "cell_type": "markdown",
   "id": "55748f2b",
   "metadata": {},
   "source": [
    "### Check accuracy with Gradient descent Boosting"
   ]
  },
  {
   "cell_type": "code",
   "execution_count": 71,
   "id": "2ea42269",
   "metadata": {},
   "outputs": [
    {
     "data": {
      "text/plain": [
       "array([False,  True, False, False,  True,  True, False,  True, False,\n",
       "       False,  True,  True, False,  True, False, False,  True, False,\n",
       "       False, False,  True,  True,  True,  True,  True, False,  True,\n",
       "        True, False, False])"
      ]
     },
     "execution_count": 71,
     "metadata": {},
     "output_type": "execute_result"
    }
   ],
   "source": [
    "rfe_model=RFE(estimator=GradientBoostingClassifier(random_state=42),\n",
    "             n_features_to_select=15)\n",
    "\n",
    "rfe_model.fit(X_train,y_train)\n",
    "rfe_model.get_support()"
   ]
  },
  {
   "cell_type": "code",
   "execution_count": 72,
   "id": "afd49379",
   "metadata": {},
   "outputs": [
    {
     "data": {
      "text/plain": [
       "Index(['mean texture', 'mean smoothness', 'mean compactness',\n",
       "       'mean concave points', 'radius error', 'texture error', 'area error',\n",
       "       'concavity error', 'worst radius', 'worst texture', 'worst perimeter',\n",
       "       'worst area', 'worst smoothness', 'worst concavity',\n",
       "       'worst concave points'],\n",
       "      dtype='object')"
      ]
     },
     "execution_count": 72,
     "metadata": {},
     "output_type": "execute_result"
    }
   ],
   "source": [
    "X_train.columns[rfe_model.get_support()]"
   ]
  },
  {
   "cell_type": "code",
   "execution_count": 73,
   "id": "715e4e11",
   "metadata": {},
   "outputs": [
    {
     "data": {
      "text/plain": [
       "15"
      ]
     },
     "execution_count": 73,
     "metadata": {},
     "output_type": "execute_result"
    }
   ],
   "source": [
    "len(X_train.columns[rfe_model.get_support()])"
   ]
  },
  {
   "cell_type": "code",
   "execution_count": 74,
   "id": "0f9f3bc1",
   "metadata": {},
   "outputs": [],
   "source": [
    "# Select those features from the X_train given by RFE model .\n",
    "\n",
    "X_train_rfe_transform=rfe_model.transform(X_train)\n",
    "X_test_rfe_transform=rfe_model.transform(X_test)"
   ]
  },
  {
   "cell_type": "code",
   "execution_count": 75,
   "id": "563e19e1",
   "metadata": {},
   "outputs": [
    {
     "name": "stdout",
     "output_type": "stream",
     "text": [
      "0.956140350877193\n",
      "Wall time: 120 ms\n"
     ]
    }
   ],
   "source": [
    "%%time\n",
    "Check_accuracy(X_train_rfe_transform,X_test_rfe_transform)"
   ]
  },
  {
   "cell_type": "code",
   "execution_count": 76,
   "id": "fdba0a6d",
   "metadata": {},
   "outputs": [
    {
     "data": {
      "text/plain": [
       "(455, 15)"
      ]
     },
     "execution_count": 76,
     "metadata": {},
     "output_type": "execute_result"
    }
   ],
   "source": [
    "X_train_rfe_transform.shape"
   ]
  },
  {
   "cell_type": "markdown",
   "id": "aef264b0",
   "metadata": {},
   "source": [
    "### How to decide the optimal no of features "
   ]
  },
  {
   "cell_type": "code",
   "execution_count": 78,
   "id": "85511202",
   "metadata": {},
   "outputs": [
    {
     "name": "stdout",
     "output_type": "stream",
     "text": [
      "Selected Featueres 1\n",
      "0.9035087719298246\n",
      "Selected Featueres 2\n",
      "0.9035087719298246\n",
      "Selected Featueres 3\n",
      "0.956140350877193\n",
      "Selected Featueres 4\n",
      "0.956140350877193\n",
      "Selected Featueres 5\n",
      "0.956140350877193\n",
      "Selected Featueres 6\n",
      "0.956140350877193\n",
      "Selected Featueres 7\n",
      "0.9649122807017544\n",
      "Selected Featueres 8\n",
      "0.9649122807017544\n",
      "Selected Featueres 9\n",
      "0.9736842105263158\n",
      "Selected Featueres 10\n",
      "0.956140350877193\n",
      "Selected Featueres 11\n",
      "0.956140350877193\n",
      "Selected Featueres 12\n",
      "0.956140350877193\n",
      "Selected Featueres 13\n",
      "0.9649122807017544\n",
      "Selected Featueres 14\n",
      "0.956140350877193\n",
      "Selected Featueres 15\n",
      "0.956140350877193\n",
      "Selected Featueres 16\n",
      "0.9649122807017544\n",
      "Selected Featueres 17\n",
      "0.9649122807017544\n",
      "Selected Featueres 18\n",
      "0.956140350877193\n",
      "Selected Featueres 19\n",
      "0.9649122807017544\n",
      "Selected Featueres 20\n",
      "0.9649122807017544\n",
      "Selected Featueres 21\n",
      "0.956140350877193\n",
      "Selected Featueres 22\n",
      "0.9649122807017544\n",
      "Selected Featueres 23\n",
      "0.9649122807017544\n",
      "Selected Featueres 24\n",
      "0.9649122807017544\n",
      "Selected Featueres 25\n",
      "0.956140350877193\n",
      "Selected Featueres 26\n",
      "0.9649122807017544\n",
      "Selected Featueres 27\n",
      "0.9649122807017544\n",
      "Selected Featueres 28\n",
      "0.956140350877193\n",
      "Selected Featueres 29\n",
      "0.9649122807017544\n",
      "Selected Featueres 30\n",
      "0.9649122807017544\n"
     ]
    }
   ],
   "source": [
    "for i in range(1,31):\n",
    "    rfe_model = RFE(estimator=GradientBoostingClassifier(random_state=42),\n",
    "             n_features_to_select=i)\n",
    " \n",
    "    rfe_model.fit(X_train,y_train)\n",
    "    X_train_rfe_transform=rfe_model.transform(X_train)\n",
    "    X_test_rfe_transform=rfe_model.transform(X_test)\n",
    "    print(\"Selected Featueres\",i)\n",
    "    acc_score = Check_accuracy(X_train_rfe_transform,X_test_rfe_transform)"
   ]
  },
  {
   "cell_type": "markdown",
   "id": "517c1a22",
   "metadata": {},
   "source": [
    "### Optimal No of Features = 9 "
   ]
  },
  {
   "cell_type": "code",
   "execution_count": 79,
   "id": "0baeb404",
   "metadata": {},
   "outputs": [
    {
     "name": "stdout",
     "output_type": "stream",
     "text": [
      "0.9736842105263158\n"
     ]
    }
   ],
   "source": [
    "rfe_model=RFE(estimator=GradientBoostingClassifier(random_state=42),\n",
    "             n_features_to_select=9)\n",
    "\n",
    "rfe_model.fit(X_train,y_train)\n",
    "rfe_model.get_support()\n",
    "X_train_rfe_transform=rfe_model.transform(X_train)\n",
    "X_test_rfe_transform=rfe_model.transform(X_test)\n",
    "Check_accuracy(X_train_rfe_transform,X_test_rfe_transform)"
   ]
  },
  {
   "cell_type": "markdown",
   "id": "bc3c0a41",
   "metadata": {},
   "source": [
    "### THE END"
   ]
  }
 ],
 "metadata": {
  "kernelspec": {
   "display_name": "Python 3 (ipykernel)",
   "language": "python",
   "name": "python3"
  },
  "language_info": {
   "codemirror_mode": {
    "name": "ipython",
    "version": 3
   },
   "file_extension": ".py",
   "mimetype": "text/x-python",
   "name": "python",
   "nbconvert_exporter": "python",
   "pygments_lexer": "ipython3",
   "version": "3.9.7"
  }
 },
 "nbformat": 4,
 "nbformat_minor": 5
}
